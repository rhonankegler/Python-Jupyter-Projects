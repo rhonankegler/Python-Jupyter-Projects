{
 "cells": [
  {
   "cell_type": "markdown",
   "id": "32cf6449",
   "metadata": {},
   "source": [
    "# Project 1 \n",
    "\n",
    "## Introduction\n",
    "A sequence is an organized list of values that can either be finite or infinite. One example of a finite sequence could be all integers from 1 to 100. \n",
    "\n",
    "$ a_n = \\{1,2,3,4,...100\\} $ \n",
    "\n",
    "On the flip side, a possible infinite sequence could be all positive odd integers.\n",
    "\n",
    "$ a_n = \\{1,3,5,7,9,...\\} $\n",
    "\n",
    "An easier way to observe a sequence is to represent the sequence as a function. Although not all sequences particularly need to be represented by a function, the particular sequence being observed in this project will be. \n",
    "The goal of this project is to create a sequenced list described by the following function:\n",
    "$$ f(x) = \\begin{cases} x/2 , &\\text{if x is even} \\\\ 3x+1 , &\\text{if x is odd}\\end{cases}$$\n",
    "We let $a_k = 1$, where k is a postive integer and are looking to compute $a_n = f(a_{n-1})$ for $n>1$\n",
    "\n",
    "The generated sequence will conclude when $a_n=1$\n",
    "\n",
    "This project will study the behaviors of certain values of the function. Furthermore, observations of any possible trends and patterns relating to properties such as sequence length, and highest number achieved will be noted.\n",
    "This will be done through the assistance of graphs."
   ]
  },
  {
   "cell_type": "markdown",
   "id": "9ad5a0ca",
   "metadata": {},
   "source": [
    "## Exercise 1 Single Step\n",
    "\n",
    "The Single Step will compute the first value of the desired sequence. Constructing an initial function is essential to building a more complex function which will be used later on in this project.\n"
   ]
  },
  {
   "cell_type": "code",
   "execution_count": 1,
   "id": "5522c904",
   "metadata": {},
   "outputs": [],
   "source": [
    "def single_step(x): #the Single Step will compute the first value of the sequence when the function is given a value 'x'\n",
    "    total = 0\n",
    "    for num in range(x+1): \n",
    "        if num%2 == 0: #checks to see if the given number is even\n",
    "            total = x//2 #if the function is given an 'x' value that is even, the function will compute a new value that respresents 'x' divided by 2\n",
    "        if num%2 != 0: #checks to see if the given number is odd\n",
    "            total = 3*x + 1 #if the function is given a 'x' value that is odd, the function will procede by computing a value that is 'x' mupltiplied by and then adding 1\n",
    "    return total #returns a single output value"
   ]
  },
  {
   "cell_type": "markdown",
   "id": "8e5d82a8",
   "metadata": {},
   "source": [
    "### Example 1"
   ]
  },
  {
   "cell_type": "markdown",
   "id": "b67d3a71",
   "metadata": {},
   "source": [
    "In this is example the function is given an 'x' value of 7 which is odd because it is not divisible by 2.  Since it is odd, the function will operate $ 3x+1 $ as $ 3(7)+1 $. This equates to 22 which is the value that is given in the output."
   ]
  },
  {
   "cell_type": "code",
   "execution_count": 2,
   "id": "a41ee4cf",
   "metadata": {},
   "outputs": [
    {
     "data": {
      "text/plain": [
       "22"
      ]
     },
     "execution_count": 2,
     "metadata": {},
     "output_type": "execute_result"
    }
   ],
   "source": [
    "single_step(7)"
   ]
  },
  {
   "cell_type": "markdown",
   "id": "a41d62b9",
   "metadata": {},
   "source": [
    "### Example 2"
   ]
  },
  {
   "cell_type": "markdown",
   "id": "317d4911",
   "metadata": {},
   "source": [
    "In this is example the function is given an 'x' value of 6 which is even becaue it is divisible by 2. Since it is even, the fucntion will operate $ x/2 $ as $ (6)/2 $. This equates to 3 which is the value that is given in the output."
   ]
  },
  {
   "cell_type": "code",
   "execution_count": 3,
   "id": "293e40e0",
   "metadata": {},
   "outputs": [
    {
     "data": {
      "text/plain": [
       "3"
      ]
     },
     "execution_count": 3,
     "metadata": {},
     "output_type": "execute_result"
    }
   ],
   "source": [
    "single_step(6)"
   ]
  },
  {
   "cell_type": "markdown",
   "id": "e9d13708",
   "metadata": {},
   "source": [
    "## Excersie 2 Full Sequence\n",
    "\n",
    "The Full Sequence will build off of the first function in Exercise 1.  Instead of returning just one value based off of a given 'x', this function will build a sequence. This new value is now used again and checked through the Single Step function to produce another value.  These values are then added to a list and this sequence will continue adding and computing more values until the output value of '1' is given.  Once the output value reaches '1', the list will be concluded and returned as a comma seperated list of all the values starting with the one first given to the function and ending with '1'."
   ]
  },
  {
   "cell_type": "code",
   "execution_count": 4,
   "id": "60dc1897",
   "metadata": {},
   "outputs": [],
   "source": [
    "def full_sequence(k): #when the function 'full_sequence(k)' is given a value of 'k', the Single Step function will operate to produce a new value just like before\n",
    "    x = [k] #this will be used to store the ordered list\n",
    "    while single_step(k) != 1: #as long as the value from 'single_step' is not 1, the while loop while continue to run but once it computes 1 as an ouput, the sequence will end\n",
    "        k=single_step(k) #the output from the first 'single_step' will be put back as a new 'k' value in 'single_step'\n",
    "        x.append(k) #each 'single_step' value will be added to the ordered list\n",
    "    x.append(1) #because the while loop ends once it computes '1', it will not include '1' so we mannually add the value to the conclude the list\n",
    "    return x #returns a list of the entire sequence"
   ]
  },
  {
   "cell_type": "markdown",
   "id": "1c014a6a",
   "metadata": {},
   "source": [
    "### Example 1"
   ]
  },
  {
   "cell_type": "markdown",
   "id": "26b47854",
   "metadata": {},
   "source": [
    "Here the 'full_sequence' function is given a value of 7. Instead of just returning 22 as the 'single_step' did in Exercise 1, the new value is now of recomputed into the function and continues to add these outputs until the number 1 is reached."
   ]
  },
  {
   "cell_type": "code",
   "execution_count": 5,
   "id": "025ede0a",
   "metadata": {},
   "outputs": [
    {
     "data": {
      "text/plain": [
       "[7, 22, 11, 34, 17, 52, 26, 13, 40, 20, 10, 5, 16, 8, 4, 2, 1]"
      ]
     },
     "execution_count": 5,
     "metadata": {},
     "output_type": "execute_result"
    }
   ],
   "source": [
    "full_sequence(7)"
   ]
  },
  {
   "cell_type": "markdown",
   "id": "431734b2",
   "metadata": {},
   "source": [
    "One other thing we can take note of is the length of the desired full sequence."
   ]
  },
  {
   "cell_type": "code",
   "execution_count": 6,
   "id": "7457311d",
   "metadata": {},
   "outputs": [
    {
     "name": "stdout",
     "output_type": "stream",
     "text": [
      "17\n"
     ]
    }
   ],
   "source": [
    "print(len(full_sequence(7))) #this will display the length of the particular sequence above"
   ]
  },
  {
   "cell_type": "markdown",
   "id": "9a06618c",
   "metadata": {},
   "source": [
    "### Example 2"
   ]
  },
  {
   "cell_type": "markdown",
   "id": "5bb2d32e",
   "metadata": {},
   "source": [
    "Another example but now the function is starting with an even number instead of odd."
   ]
  },
  {
   "cell_type": "code",
   "execution_count": 7,
   "id": "af76f4c3",
   "metadata": {},
   "outputs": [
    {
     "data": {
      "text/plain": [
       "[8, 4, 2, 1]"
      ]
     },
     "execution_count": 7,
     "metadata": {},
     "output_type": "execute_result"
    }
   ],
   "source": [
    "full_sequence(8)"
   ]
  },
  {
   "cell_type": "code",
   "execution_count": 8,
   "id": "afd1d9fa",
   "metadata": {},
   "outputs": [
    {
     "name": "stdout",
     "output_type": "stream",
     "text": [
      "4\n"
     ]
    }
   ],
   "source": [
    "print(len(full_sequence(8)))"
   ]
  },
  {
   "cell_type": "markdown",
   "id": "f5b8fb6c",
   "metadata": {},
   "source": [
    "### Example 3"
   ]
  },
  {
   "cell_type": "markdown",
   "id": "6c767549",
   "metadata": {},
   "source": [
    "One value we can reject is using '1' as the initial value. This is because the sequence is meant to end when '1' is observed, therefore it would be redundant to use it as an input. Although the operation returns 4 values, this is because the function only concludes when it computes a value of '1' from a previous initial value rather than ending when it receives an input of '1'."
   ]
  },
  {
   "cell_type": "code",
   "execution_count": 9,
   "id": "a82d8ede",
   "metadata": {},
   "outputs": [
    {
     "data": {
      "text/plain": [
       "[1, 4, 2, 1]"
      ]
     },
     "execution_count": 9,
     "metadata": {},
     "output_type": "execute_result"
    }
   ],
   "source": [
    "full_sequence(1)"
   ]
  },
  {
   "cell_type": "markdown",
   "id": "6cc0a79e",
   "metadata": {},
   "source": [
    "## Observations\n",
    "The function in Exercise 2 is meant for positive integers only. When a negative integer is used as an initial input, the sequence will eventually oscillate between -2 and -1 infinity and will not end because it will never reach 1."
   ]
  },
  {
   "cell_type": "markdown",
   "id": "a9dea8c7",
   "metadata": {},
   "source": [
    "#### Defining a list of lengths:\n",
    "This function will produce a numbered list of each sequences' list length up to a given point."
   ]
  },
  {
   "cell_type": "code",
   "execution_count": 10,
   "id": "466b608a",
   "metadata": {},
   "outputs": [],
   "source": [
    "def list_length(t):\n",
    "    x = []\n",
    "    for num in range (2,t+1): #the range will be from 2 to infinity because we have ruled out 1 from example 3 of exercise 2\n",
    "        x.append(len(full_sequence(num))) #each sequence length will be added to this list\n",
    "    return x"
   ]
  },
  {
   "cell_type": "markdown",
   "id": "675a4e62",
   "metadata": {},
   "source": [
    "A list of lengths of given inputs of 2 through 10 is shown below."
   ]
  },
  {
   "cell_type": "code",
   "execution_count": 11,
   "id": "5ba0e080",
   "metadata": {},
   "outputs": [
    {
     "data": {
      "text/plain": [
       "[2, 8, 3, 6, 9, 17, 4, 20, 7]"
      ]
     },
     "execution_count": 11,
     "metadata": {},
     "output_type": "execute_result"
    }
   ],
   "source": [
    "list_length(10)"
   ]
  },
  {
   "cell_type": "markdown",
   "id": "bc5bcaae",
   "metadata": {},
   "source": [
    "Similar to Example 1 of Exercise 2, we are returned the length of a given input. Instead, this new function returns a list of lengths from a range of inputs."
   ]
  },
  {
   "cell_type": "markdown",
   "id": "f8ee47d0",
   "metadata": {},
   "source": [
    "## Graphing Data Based on Sequence Lengths"
   ]
  },
  {
   "cell_type": "code",
   "execution_count": 12,
   "id": "59fb7ca9",
   "metadata": {},
   "outputs": [],
   "source": [
    "import matplotlib.pyplot as plt #imports a plotting module"
   ]
  },
  {
   "cell_type": "markdown",
   "id": "fdeec694",
   "metadata": {},
   "source": [
    "### Example 1: First 100 Sequence Lengths"
   ]
  },
  {
   "cell_type": "code",
   "execution_count": 13,
   "id": "c757e9a9",
   "metadata": {},
   "outputs": [
    {
     "data": {
      "image/png": "[encoded data removed]",
      "text/plain": [
       "<Figure size 640x480 with 1 Axes>"
      ]
     },
     "metadata": {},
     "output_type": "display_data"
    }
   ],
   "source": [
    "x = [k for k in range(2,101)] #the range of input values is 2 through 100\n",
    "y = list_length(100) #100 total data points\n",
    "plt.plot(x,y,'o') #represents the graph as a dot plot instead of lines\n",
    "plt.title('Graph of the First 100 Sequence Lengths') #gives the graph a title and identity\n",
    "plt.xlabel('x values') #labels the x-axis\n",
    "plt.ylabel('Sequence lengths') #labels the y-axis\n",
    "plt.show() #cleans up the graph and prevents unnecessary code from showing up"
   ]
  },
  {
   "cell_type": "markdown",
   "id": "0d2d7d02",
   "metadata": {},
   "source": [
    "We can observe a slight positive trend and oscillation starting to occur."
   ]
  },
  {
   "cell_type": "code",
   "execution_count": 14,
   "id": "bb7af926",
   "metadata": {},
   "outputs": [
    {
     "data": {
      "text/plain": [
       "[2,\n",
       " 8,\n",
       " 3,\n",
       " 6,\n",
       " 9,\n",
       " 17,\n",
       " 4,\n",
       " 20,\n",
       " 7,\n",
       " 15,\n",
       " 10,\n",
       " 10,\n",
       " 18,\n",
       " 18,\n",
       " 5,\n",
       " 13,\n",
       " 21,\n",
       " 21,\n",
       " 8,\n",
       " 8,\n",
       " 16,\n",
       " 16,\n",
       " 11,\n",
       " 24,\n",
       " 11,\n",
       " 112,\n",
       " 19,\n",
       " 19,\n",
       " 19,\n",
       " 107,\n",
       " 6,\n",
       " 27,\n",
       " 14,\n",
       " 14,\n",
       " 22,\n",
       " 22,\n",
       " 22,\n",
       " 35,\n",
       " 9,\n",
       " 110,\n",
       " 9,\n",
       " 30,\n",
       " 17,\n",
       " 17,\n",
       " 17,\n",
       " 105,\n",
       " 12,\n",
       " 25,\n",
       " 25,\n",
       " 25,\n",
       " 12,\n",
       " 12,\n",
       " 113,\n",
       " 113,\n",
       " 20,\n",
       " 33,\n",
       " 20,\n",
       " 33,\n",
       " 20,\n",
       " 20,\n",
       " 108,\n",
       " 108,\n",
       " 7,\n",
       " 28,\n",
       " 28,\n",
       " 28,\n",
       " 15,\n",
       " 15,\n",
       " 15,\n",
       " 103,\n",
       " 23,\n",
       " 116,\n",
       " 23,\n",
       " 15,\n",
       " 23,\n",
       " 23,\n",
       " 36,\n",
       " 36,\n",
       " 10,\n",
       " 23,\n",
       " 111,\n",
       " 111,\n",
       " 10,\n",
       " 10,\n",
       " 31,\n",
       " 31,\n",
       " 18,\n",
       " 31,\n",
       " 18,\n",
       " 93,\n",
       " 18,\n",
       " 18,\n",
       " 106,\n",
       " 106,\n",
       " 13,\n",
       " 119,\n",
       " 26,\n",
       " 26,\n",
       " 26]"
      ]
     },
     "execution_count": 14,
     "metadata": {},
     "output_type": "execute_result"
    }
   ],
   "source": [
    "list_length(100) #observing the exact values of each of the first 100 sequence lengths"
   ]
  },
  {
   "cell_type": "markdown",
   "id": "c244683e",
   "metadata": {},
   "source": [
    "Of the first 100 sequence lengths, there are 16 sequences that have a length of at least 93. The other 84 have a length of 36 or less. These 16 values are observable in the graph above as the data points on the top of the gap. The 16 sequences are (27, 31, 41, 47, 54, 55, 62, 63, 71, 73, 82, 83, 91, 94, 95, 97). There does not appear to be an apparent trend between these values. Between all 100 values there is a maximum of 119 and a minimum of 2."
   ]
  },
  {
   "cell_type": "markdown",
   "id": "025cf192",
   "metadata": {},
   "source": [
    "### Example 2: First 27 Sequence Lengths\n",
    "The first 27 sequences may be a strange number to observe but we can see that this is when the first true outlier occurs."
   ]
  },
  {
   "cell_type": "code",
   "execution_count": 15,
   "id": "37ee12fb",
   "metadata": {},
   "outputs": [
    {
     "data": {
      "image/png": "[encoded data removed]",
      "text/plain": [
       "<Figure size 640x480 with 1 Axes>"
      ]
     },
     "metadata": {},
     "output_type": "display_data"
    }
   ],
   "source": [
    "x = [k for k in range(2,28)]\n",
    "y = list_length(27)\n",
    "plt.plot(x,y,'o')\n",
    "plt.title('Graph of the First 27 Sequence Lengths')\n",
    "plt.xlabel('x values')\n",
    "plt.ylabel('Sequence lengths')\n",
    "plt.show()"
   ]
  },
  {
   "cell_type": "markdown",
   "id": "ed231253",
   "metadata": {},
   "source": [
    "### Example 3: First 1000 Sequence Lengths\n",
    "Observing the first 1000 sequence lengths can provide us with a more defined pattern of the graph. The gap that was apparent in the \"Graph of the First 100 Sequence Lengths\" has diminished although the main clusters of data are still towards the bottom with smaller clusters on the top."
   ]
  },
  {
   "cell_type": "code",
   "execution_count": 16,
   "id": "0ef90f58",
   "metadata": {},
   "outputs": [
    {
     "data": {
      "image/png": "[encoded data removed]",
      "text/plain": [
       "<Figure size 640x480 with 1 Axes>"
      ]
     },
     "metadata": {},
     "output_type": "display_data"
    }
   ],
   "source": [
    "x = [k for k in range(2,1001)]\n",
    "y = list_length(1000)\n",
    "plt.plot(x,y,'o')\n",
    "plt.title('Graph of the First 1000 Sequence Lengths')\n",
    "plt.xlabel('x values')\n",
    "plt.ylabel('Sequence lengths')\n",
    "plt.show()"
   ]
  }
 ],
 "metadata": {
  "kernelspec": {
   "display_name": "Python 3 (ipykernel)",
   "language": "python",
   "name": "python3"
  },
  "language_info": {
   "codemirror_mode": {
    "name": "ipython",
    "version": 3
   },
   "file_extension": ".py",
   "mimetype": "text/x-python",
   "name": "python",
   "nbconvert_exporter": "python",
   "pygments_lexer": "ipython3",
   "version": "3.9.13"
  }
 },
 "nbformat": 4,
 "nbformat_minor": 5
}
